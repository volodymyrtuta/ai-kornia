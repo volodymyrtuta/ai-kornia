{
 "cells": [
  {
   "cell_type": "code",
   "execution_count": null,
   "metadata": {},
   "outputs": [],
   "source": [
    "import cv2\n",
    "import matplotlib.pyplot as plt\n",
    "import numpy as np\n",
    "import os\n",
    "import torch\n",
    "import torch.nn as nn\n",
    "import torch.nn.functional as F\n",
    "import torch.optim as optim\n",
    "import torchgeometry as tgm\n",
    "import sys"
   ]
  },
  {
   "cell_type": "code",
   "execution_count": null,
   "metadata": {},
   "outputs": [],
   "source": [
    "root_path = '/data/depth/training'\n",
    "sequence_name, = 'alley_1'\n",
    "frame_source_id = 1\n",
    "file_name = 'frame_%04d' % (frame_id)\n",
    "image_file = os.path.join(root_path, 'clean', sequence_name,\n",
    "                          file_name + '.png')\n",
    "depth_file = os.path.join(root_path, 'depth', sequence_name,\n",
    "                          file_name + '.dpt')\n",
    "camera_file = os.path.join(root_path, 'camdata_left', sequence_name,\n",
    "                          file_name + '.cam')\n",
    "# load the actual data\n",
    "image = load_image(image_file)\n",
    "depth = load_depth(depth_file)\n",
    "camera_data = load_camera_data(camera_file) \n",
    "camera = create_pinhole(*camera_data, *image.shape[-2:])\n"
   ]
  },
  {
   "cell_type": "code",
   "execution_count": null,
   "metadata": {},
   "outputs": [],
   "source": [
    "def load_data(root_path, sequence_name, frame_id):\n",
    "    # index paths                                                                                                                        \n",
    "    file_name = 'frame_%04d' % (frame_id)\n",
    "    image_file = os.path.join(root_path, 'clean', sequence_name,\n",
    "                              file_name + '.png')\n",
    "    depth_file = os.path.join(root_path, 'depth', sequence_name,\n",
    "                              file_name + '.dpt')\n",
    "    camera_file = os.path.join(root_path, 'camdata_left', sequence_name,\n",
    "                               file_name + '.cam')\n",
    "    # load the actual data                                                                                                               \n",
    "    image = load_image(image_file)\n",
    "    depth = load_depth(depth_file)\n",
    "    # load camera data and create pinhole                                                                                                \n",
    "    height, width = image.shape[-2:]\n",
    "    intrinsics, extrinsics = load_camera_data(camera_file)\n",
    "    camera = create_pinhole(intrinsics, extrinsics, height, width)\n",
    "    return image, depth, camera\n",
    "\n",
    "def load_depth(file_name):\n",
    "    \"\"\"Loads the depth using the syntel SDK and converts to torch.Tensor                                                                 \n",
    "    \"\"\"\n",
    "    assert os.path.isfile(file_name), \"Invalid file {}\".format(file_name)\n",
    "    import sintel_io\n",
    "    depth = sintel_io.depth_read(file_name)\n",
    "    return torch.from_numpy(depth).view(1, 1, *depth.shape).float()\n",
    "\n",
    "def load_camera_data(file_name):\n",
    "    \"\"\"Loads the camera data using the syntel SDK and converts to torch.Tensor.                                                          \n",
    "    \"\"\"\n",
    "    assert os.path.isfile(file_name), \"Invalid file {}\".format(file_name)\n",
    "    import sintel_io\n",
    "    intrinsic, extrinsic = sintel_io.cam_read(file_name)\n",
    "    return intrinsic, extrinsic\n",
    "\n",
    "def load_image(file_name):\n",
    "    \"\"\"Loads the image with OpenCV and converts to torch.Tensor                                                                          \n",
    "    \"\"\"\n",
    "    assert os.path.isfile(file_name), \"Invalid file {}\".format(file_name)\n",
    "\n",
    "    # load image with OpenCV                                                                                                             \n",
    "    img = cv2.imread(file_name, cv2.IMREAD_COLOR)\n",
    "\n",
    "    # convert image to torch tensor                                                                                                      \n",
    "    tensor = tgm.utils.image_to_tensor(img).float() / 255.\n",
    "    return tensor.view(1, *tensor.shape)  # 1xCxHxW "
   ]
  }
 ],
 "metadata": {
  "kernelspec": {
   "display_name": "Python 3",
   "language": "python",
   "name": "python3"
  },
  "language_info": {
   "codemirror_mode": {
    "name": "ipython",
    "version": 3
   },
   "file_extension": ".py",
   "mimetype": "text/x-python",
   "name": "python",
   "nbconvert_exporter": "python",
   "pygments_lexer": "ipython3",
   "version": "3.6.5"
  }
 },
 "nbformat": 4,
 "nbformat_minor": 2
}
